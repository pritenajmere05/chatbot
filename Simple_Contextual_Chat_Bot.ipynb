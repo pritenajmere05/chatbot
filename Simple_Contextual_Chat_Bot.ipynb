{
 "cells": [
  {
   "cell_type": "markdown",
   "id": "92cb9118-da4c-4bd5-91e5-ada80db185e0",
   "metadata": {},
   "source": [
    "### Simple Contextual Chat Bot"
   ]
  },
  {
   "cell_type": "code",
   "execution_count": 8,
   "id": "896f1856-7e8e-4b0d-898f-1bf320f20021",
   "metadata": {},
   "outputs": [],
   "source": [
    "import os\n",
    "import re\n",
    "import nltk\n",
    "from nltk.tokenize import sent_tokenize\n",
    "from sklearn.feature_extraction.text import TfidfVectorizer\n",
    "from sklearn.metrics.pairwise import cosine_similarity\n",
    "import sys\n",
    "import fitz"
   ]
  },
  {
   "cell_type": "code",
   "execution_count": 3,
   "id": "ba456828-b166-4bf4-b1d1-97fc679a830f",
   "metadata": {},
   "outputs": [],
   "source": [
    "# Reading the document\n",
    "def read_document(file_path):\n",
    "    text = fitz.open(file_path)\n",
    "    text = [page.get_text() for page in text]\n",
    "    text = \" \".join(text)\n",
    "    text = \" \".join(text.split())\n",
    "    return text"
   ]
  },
  {
   "cell_type": "code",
   "execution_count": 4,
   "id": "66bdb2b0-ae4e-4919-97ea-e529b3123005",
   "metadata": {},
   "outputs": [],
   "source": [
    "# Preprocessing the text\n",
    "def preprocess_text(text):\n",
    "    # Tokenize text into sentences\n",
    "    sentences = sent_tokenize(text)\n",
    "    return sentences"
   ]
  },
  {
   "cell_type": "code",
   "execution_count": 5,
   "id": "d50ad0b3-80bf-4be4-becb-87cdc7207ec9",
   "metadata": {},
   "outputs": [],
   "source": [
    "# Building the chatbot\n",
    "class SimpleChatBot:\n",
    "    def __init__(self, document_path):\n",
    "        self.document_text = read_document(document_path)\n",
    "        self.sentences = preprocess_text(self.document_text)\n",
    "        self.vectorizer = TfidfVectorizer()\n",
    "        self.vectorized_sentences = self.vectorizer.fit_transform(self.sentences)\n",
    "\n",
    "    def answer_question(self, question):\n",
    "        question_vector = self.vectorizer.transform([question])\n",
    "        similarities = cosine_similarity(question_vector, self.vectorized_sentences)\n",
    "        most_similar_sentence_index = similarities.argmax()\n",
    "        threshold = similarities[0][most_similar_sentence_index]\n",
    "        if threshold > 0.2:  # You can adjust the threshold as needed\n",
    "            return self.sentences[most_similar_sentence_index]\n",
    "        else:\n",
    "            return \"I don't know the answer.\""
   ]
  },
  {
   "cell_type": "code",
   "execution_count": 9,
   "id": "35fb70b9-5501-4000-8c10-e000b41984ec",
   "metadata": {},
   "outputs": [
    {
     "name": "stdin",
     "output_type": "stream",
     "text": [
      "Ask a question:  Give me certifications name\n"
     ]
    },
    {
     "name": "stdout",
     "output_type": "stream",
     "text": [
      "• CERTIFICATIONS Infosys Certified Data Scientist Infosys Certified Python Associate Infosys Certified Machine Learning Engineer\n"
     ]
    },
    {
     "name": "stdin",
     "output_type": "stream",
     "text": [
      "Ask another question:  What skills candidate have ?\n"
     ]
    },
    {
     "name": "stdout",
     "output_type": "stream",
     "text": [
      "• Demonstrated strong coding skills in Python, emphasizing clean and production-ready code with Object-Oriented Programming principles.\n"
     ]
    },
    {
     "name": "stdin",
     "output_type": "stream",
     "text": [
      "Ask another question:  candidate is girl or boy ?\n"
     ]
    },
    {
     "name": "stdout",
     "output_type": "stream",
     "text": [
      "I don't know the answer.\n"
     ]
    },
    {
     "name": "stdin",
     "output_type": "stream",
     "text": [
      "Ask another question:  exit\n"
     ]
    }
   ],
   "source": [
    "# Example:\n",
    "if __name__ == \"__main__\":\n",
    "    document_path = r\"G:\\Question pro assessment\\Priten_Resume.pdf\"  # Replace with your document path\n",
    "    chatbot = SimpleChatBot(document_path)\n",
    "    question = input(\"Ask a question: \")\n",
    "    while question.lower() != \"exit\":\n",
    "        answer = chatbot.answer_question(question)\n",
    "        print(answer)\n",
    "        question = input(\"Ask another question: \")"
   ]
  },
  {
   "cell_type": "code",
   "execution_count": null,
   "id": "1fe4da83-f86a-408e-bfe9-743f58f50830",
   "metadata": {},
   "outputs": [],
   "source": []
  },
  {
   "cell_type": "markdown",
   "id": "f8cde7a7-b1e0-4bc3-83c2-eaa44b95247e",
   "metadata": {},
   "source": [
    "### Advanced Challenge"
   ]
  },
  {
   "cell_type": "code",
   "execution_count": 56,
   "id": "233386c1-5b6f-46e9-8e96-689d26d2d622",
   "metadata": {},
   "outputs": [],
   "source": [
    "import os\n",
    "import re\n",
    "import nltk\n",
    "from nltk.tokenize import sent_tokenize\n",
    "from sklearn.feature_extraction.text import TfidfVectorizer\n",
    "from sklearn.metrics.pairwise import cosine_similarity\n",
    "import pinecone\n",
    "import sys\n",
    "import fitz"
   ]
  }
 ],
 "metadata": {
  "kernelspec": {
   "display_name": "Python 3 (ipykernel)",
   "language": "python",
   "name": "python3"
  },
  "language_info": {
   "codemirror_mode": {
    "name": "ipython",
    "version": 3
   },
   "file_extension": ".py",
   "mimetype": "text/x-python",
   "name": "python",
   "nbconvert_exporter": "python",
   "pygments_lexer": "ipython3",
   "version": "3.12.1"
  }
 },
 "nbformat": 4,
 "nbformat_minor": 5
}
