{
  "nbformat": 4,
  "nbformat_minor": 0,
  "metadata": {
    "colab": {
      "provenance": [],
      "toc_visible": true
    },
    "kernelspec": {
      "name": "python3",
      "display_name": "Python 3"
    },
    "language_info": {
      "name": "python"
    }
  },
  "cells": [
    {
      "cell_type": "code",
      "execution_count": null,
      "metadata": {
        "id": "1f6cTnP_F8Cv"
      },
      "outputs": [],
      "source": [
        "!pip install --upgrade langchain openai -q"
      ]
    },
    {
      "cell_type": "code",
      "source": [
        "!pip install sentence_transformers -q"
      ],
      "metadata": {
        "id": "WEjirTatHB3F"
      },
      "execution_count": null,
      "outputs": []
    },
    {
      "cell_type": "code",
      "source": [
        "!pip install unstructured -q\n",
        "!pip install unstructured[local-inference] -q"
      ],
      "metadata": {
        "id": "SMH3-UbZHGjX"
      },
      "execution_count": null,
      "outputs": []
    },
    {
      "cell_type": "code",
      "source": [
        "!apt-get install poppler-utils"
      ],
      "metadata": {
        "id": "9PSKCKJDHKrh"
      },
      "execution_count": null,
      "outputs": []
    },
    {
      "cell_type": "code",
      "source": [
        "from langchain.document_loaders import DirectoryLoader\n",
        "\n",
        "directory = '/content/data'\n",
        "\n",
        "def load_docs(directory):\n",
        "  loader = DirectoryLoader(directory)\n",
        "  documents = loader.load()\n",
        "  return documents\n",
        "\n",
        "documents = load_docs(directory)\n",
        "len(documents)"
      ],
      "metadata": {
        "colab": {
          "base_uri": "https://localhost:8080/"
        },
        "id": "2mPdYDfsHu6x",
        "outputId": "62d8c2d2-a1e2-4eae-a6b5-3631fcad656a"
      },
      "execution_count": 7,
      "outputs": [
        {
          "output_type": "stream",
          "name": "stderr",
          "text": [
            "[nltk_data] Downloading package punkt to /root/nltk_data...\n",
            "[nltk_data]   Unzipping tokenizers/punkt.zip.\n",
            "[nltk_data] Downloading package averaged_perceptron_tagger to\n",
            "[nltk_data]     /root/nltk_data...\n",
            "[nltk_data]   Unzipping taggers/averaged_perceptron_tagger.zip.\n"
          ]
        },
        {
          "output_type": "execute_result",
          "data": {
            "text/plain": [
              "1"
            ]
          },
          "metadata": {},
          "execution_count": 7
        }
      ]
    },
    {
      "cell_type": "code",
      "source": [
        "from langchain.text_splitter import RecursiveCharacterTextSplitter\n",
        "\n",
        "def split_docs(documents , chunk_size = 300 , chunk_overlap = 20):\n",
        "  text_splitter = RecursiveCharacterTextSplitter(chunk_size=chunk_size , chunk_overlap=chunk_overlap)\n",
        "  docs = text_splitter.split_documents(documents)\n",
        "  return docs\n",
        "\n",
        "docs = split_docs(documents)\n",
        "print(docs)"
      ],
      "metadata": {
        "colab": {
          "base_uri": "https://localhost:8080/"
        },
        "id": "G4_OFaCRHu-q",
        "outputId": "70bb1e26-fdba-4987-a2db-5ee792622c6a"
      },
      "execution_count": 40,
      "outputs": [
        {
          "output_type": "stream",
          "name": "stdout",
          "text": [
            "[Document(page_content='Priten Ravindra Ajmere\\n\\nPune, India\\n\\npritenajmere@gmail.com\\n\\n7775844103\\n\\nlinkedin.com/in/priten-ajmere-14631a1a8\\n\\nPROFESSIONAL SUMMARY\\n\\nAn IT experience in historic data and apply statistical concepts to make cross-sectional predictions. Predictive analytics uses many', metadata={'source': '/content/data/Priten_Resume.pdf'}), Document(page_content='techniques from data mining, statistics, modeling, machine learning, and artificial intelligence to analyse current data to make\\n\\npredictions about the future.\\n\\nEXPERIENCE\\n\\nSystem Engineer Infosys •\\n\\n,\\n\\nSeptember 2021 to till date Pune', metadata={'source': '/content/data/Priten_Resume.pdf'}), Document(page_content='Applied comprehensive Python, Data Science, and Machine Learning expertise to successfully deliver solutions in the Financial,\\n\\nManufacturing, and Banking domains, addressing unique industry requirements.', metadata={'source': '/content/data/Priten_Resume.pdf'}), Document(page_content='Conducted detailed investigations into Data Visualization and summarization techniques, presenting key findings to stakeholders.\\n\\nCollaborated seamlessly with cross-functional teams, addressing challenges and ensuring the adoption of optimal approaches for\\n\\nsuccessful project outcomes.', metadata={'source': '/content/data/Priten_Resume.pdf'}), Document(page_content='Demonstrated strong coding skills in Python, emphasizing clean and production-ready code with Object-Oriented Programming\\n\\nprinciples. Leveraged the Flask web framework to develop and deploy web applications, enhancing data access and visualization.\\n\\nEDUCATION', metadata={'source': '/content/data/Priten_Resume.pdf'}), Document(page_content='EDUCATION\\n\\nBE Savitribai Phule Pune University • 2021 • 8.83\\n\\nHSC Maharashtra State Board • 2017 • 87.23%\\n\\nSSC Maharashtra State Board • 2015 • 92.20%\\n\\nSKILLS', metadata={'source': '/content/data/Priten_Resume.pdf'}), Document(page_content='Python/ML Packages:NumPy, Pandas,Sci-py, Scikit-learn, Seaborn,Matplotlib, Flask, plotly, OOPs ,regular expression(re) -Machine learning: Linear Regression,Ridge & Lasso Regression, LogisticRegression, Naïve Bayes Classifier, kNearest Neighbor’s Classifier, Support Vector Machine, Decision', metadata={'source': '/content/data/Priten_Resume.pdf'}), Document(page_content='Machine, Decision Tree,Random Forest, Gradient Descent,Ada-Boost, Gradient Boosting,XGBoost, K-means Clustering. -Text Processing: NLTK, TF-IDF,Word2Vec, Bag of Words. -Deep Learning: Neural Networks,ANN , CNN , Back Propagation ,Tensorflow , Keras PROJECTS', metadata={'source': '/content/data/Priten_Resume.pdf'}), Document(page_content='Predictive Maintenance for Industrial Equipment • Developed a predictive maintenance system for a manufacturing company to optimize maintenance schedules, reduce downtime,\\n\\nand lower maintenance costs.', metadata={'source': '/content/data/Priten_Resume.pdf'}), Document(page_content='Gathered and preprocessed historical equipment performance and operational data, engineered relevant features, and\\n\\nimplemented regression models for maintenance prediction.\\n\\n\\n\\nSuccessfully reduced unscheduled downtime and improved production efficiency.', metadata={'source': '/content/data/Priten_Resume.pdf'}), Document(page_content='Document Classification Solution System : • Mine and analyze data from company databases to drive optimization and improvement of product development and strategies.\\n\\n\\n\\nUse predictive modelling to increase and optimize customer experiences and other business outcomes.', metadata={'source': '/content/data/Priten_Resume.pdf'}), Document(page_content=\"Coordinate with different functional teams to implement models and monitor outcomes.\\n\\nResume Parsing System • Implement SpaCy's Named Entity Recognition (NER) capabilities to accurately identify and extract key entities from resumes.\", metadata={'source': '/content/data/Priten_Resume.pdf'}), Document(page_content=\"Leverage SpaCy's customizable tokenization features to fine-tune the parsing process, ensuring precise extraction of information.\\n\\n\\n\\nApply SpaCy's NLP capabilities to enhance contextual understanding of resume content.\\n\\nCERTIFICATIONS\\n\\nInfosys Certified Data Scientist\", metadata={'source': '/content/data/Priten_Resume.pdf'}), Document(page_content='Infosys Certified Python Associate\\n\\nInfosys Certified Machine Learning Engineer', metadata={'source': '/content/data/Priten_Resume.pdf'})]\n"
          ]
        }
      ]
    },
    {
      "cell_type": "code",
      "source": [
        "print(docs[6].page_content)"
      ],
      "metadata": {
        "colab": {
          "base_uri": "https://localhost:8080/"
        },
        "id": "AQYKo3amHvCK",
        "outputId": "1cdac19f-9f89-44e9-bcd0-1450adb85c65"
      },
      "execution_count": 17,
      "outputs": [
        {
          "output_type": "stream",
          "name": "stdout",
          "text": [
            "Python/ML Packages:NumPy, Pandas,Sci-py, Scikit-learn, Seaborn,Matplotlib, Flask, plotly, OOPs ,regular expression(re) -Machine learning: Linear Regression,Ridge & Lasso Regression, LogisticRegression, Naïve Bayes Classifier, kNearest Neighbor’s Classifier, Support Vector Machine, Decision\n"
          ]
        }
      ]
    },
    {
      "cell_type": "code",
      "source": [
        "from langchain.embeddings import SentenceTransformerEmbeddings\n",
        "embeddings = SentenceTransformerEmbeddings(model_name = \"all-MiniLM-L6-v2\")"
      ],
      "metadata": {
        "id": "nHFYIEODKtcB"
      },
      "execution_count": 19,
      "outputs": []
    },
    {
      "cell_type": "code",
      "source": [
        "query_result = embeddings.embed_query(\"Hello World\")\n",
        "len(query_result)"
      ],
      "metadata": {
        "colab": {
          "base_uri": "https://localhost:8080/"
        },
        "id": "Jia9hSI4KtfQ",
        "outputId": "cf13d871-2f26-463b-c0e8-e9695e83b8df"
      },
      "execution_count": 48,
      "outputs": [
        {
          "output_type": "execute_result",
          "data": {
            "text/plain": [
              "384"
            ]
          },
          "metadata": {},
          "execution_count": 48
        }
      ]
    },
    {
      "cell_type": "code",
      "source": [
        "!pip install pinecone-client -q"
      ],
      "metadata": {
        "colab": {
          "base_uri": "https://localhost:8080/"
        },
        "id": "vjpXQ2K-MBWt",
        "outputId": "e971cc48-654f-4a81-afe4-b05f029d04e7"
      },
      "execution_count": 21,
      "outputs": [
        {
          "output_type": "stream",
          "name": "stdout",
          "text": [
            "\u001b[?25l     \u001b[90m━━━━━━━━━━━━━━━━━━━━━━━━━━━━━━━━━━━━━━━━\u001b[0m \u001b[32m0.0/201.4 kB\u001b[0m \u001b[31m?\u001b[0m eta \u001b[36m-:--:--\u001b[0m\r\u001b[2K     \u001b[91m━━━━━━━━━━━━━━━━━━━━━━━━━━━━━━━━━━━━━━\u001b[0m\u001b[91m╸\u001b[0m\u001b[90m━\u001b[0m \u001b[32m194.6/201.4 kB\u001b[0m \u001b[31m6.2 MB/s\u001b[0m eta \u001b[36m0:00:01\u001b[0m\r\u001b[2K     \u001b[90m━━━━━━━━━━━━━━━━━━━━━━━━━━━━━━━━━━━━━━━━\u001b[0m \u001b[32m201.4/201.4 kB\u001b[0m \u001b[31m4.7 MB/s\u001b[0m eta \u001b[36m0:00:00\u001b[0m\n",
            "\u001b[?25h"
          ]
        }
      ]
    },
    {
      "cell_type": "code",
      "source": [
        "import pinecone\n",
        "from langchain.vectorstores import Pinecone\n",
        "\n",
        "#initialize pinecone\n",
        "pinecone.init(api_key = \"e6acf446-4177-416a-82b7-a80e40e7bc2e\" ,\n",
        "              environment = \"gcp-starter\"\n",
        "              )\n",
        "\n",
        "index_name = \"qp-ai-assessment\"\n",
        "\n",
        "index = Pinecone.from_documents(docs , embeddings , index_name = index_name)"
      ],
      "metadata": {
        "id": "M2n2xJQEZ8xJ"
      },
      "execution_count": null,
      "outputs": []
    },
    {
      "cell_type": "code",
      "source": [
        "def get_similar_docs(question , k = 3 , score = False):\n",
        "  if score:\n",
        "    similar_docs = index.similarity_search_with_score(query , k = k)\n",
        "  else:\n",
        "    similar_docs = index.similarity_search(query , k = k)\n",
        "  return similar_docs\n",
        "\n",
        "question = \"skills of candidate\"\n",
        "similar_docs = get_similar_docs(question)\n",
        "similar_docs"
      ],
      "metadata": {
        "id": "XRe31b7YbG1C"
      },
      "execution_count": 60,
      "outputs": []
    }
  ]
}